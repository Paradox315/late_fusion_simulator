{
 "cells": [
  {
   "cell_type": "code",
   "execution_count": 1,
   "metadata": {
    "ExecuteTime": {
     "end_time": "2024-01-30T01:51:15.619128Z",
     "start_time": "2024-01-30T01:51:14.416799Z"
    }
   },
   "outputs": [],
   "source": [
    "import pygmtools as pygm\n",
    "import numpy as np"
   ]
  },
  {
   "cell_type": "code",
   "execution_count": 2,
   "metadata": {
    "ExecuteTime": {
     "end_time": "2024-01-30T01:56:45.351496Z",
     "start_time": "2024-01-30T01:56:45.348085Z"
    }
   },
   "outputs": [
    {
     "data": {
      "text/plain": [
       "array([[ 0.05797363,  0.87954661, -0.61191124, ...,  0.5669722 ,\n",
       "         0.52839373,  0.59275062],\n",
       "       [ 0.77004291, -0.57310928,  0.4396872 , ..., -0.07555901,\n",
       "        -0.40941372,  1.99160837],\n",
       "       [-2.04404998, -0.15981711,  0.81283123, ..., -0.31931728,\n",
       "         0.81326674,  1.03218471],\n",
       "       ...,\n",
       "       [ 1.1174069 ,  0.18813755, -1.65900954, ..., -0.26138342,\n",
       "        -0.1556713 , -0.58335245],\n",
       "       [-0.79019561, -1.21512263, -0.01060147, ...,  1.08878954,\n",
       "        -0.73816048,  2.21783624],\n",
       "       [ 0.00787274, -0.87846207, -0.47836808, ..., -1.04628122,\n",
       "         0.7337717 , -0.03565108]])"
      ]
     },
     "execution_count": 2,
     "metadata": {},
     "output_type": "execute_result"
    }
   ],
   "source": [
    "arr=np.random.randn(2000,2000)\n",
    "arr"
   ]
  },
  {
   "cell_type": "code",
   "execution_count": 3,
   "metadata": {
    "ExecuteTime": {
     "end_time": "2024-01-30T01:58:30.098293Z",
     "start_time": "2024-01-30T01:58:30.061708Z"
    }
   },
   "outputs": [
    {
     "name": "stdout",
     "output_type": "stream",
     "text": [
      "120 ms ± 1.37 ms per loop (mean ± std. dev. of 7 runs, 1 loop each)\n"
     ]
    }
   ],
   "source": [
    "%timeit y_=pygm.hungarian(arr)"
   ]
  },
  {
   "cell_type": "code",
   "execution_count": 5,
   "metadata": {},
   "outputs": [
    {
     "name": "stdout",
     "output_type": "stream",
     "text": [
      "216 ms ± 4.86 ms per loop (mean ± std. dev. of 7 runs, 1 loop each)\n"
     ]
    }
   ],
   "source": [
    "%timeit z=pygm.sinkhorn(arr) "
   ]
  }
 ],
 "metadata": {
  "kernelspec": {
   "display_name": "math",
   "language": "python",
   "name": "python3"
  },
  "language_info": {
   "codemirror_mode": {
    "name": "ipython",
    "version": 3
   },
   "file_extension": ".py",
   "mimetype": "text/x-python",
   "name": "python",
   "nbconvert_exporter": "python",
   "pygments_lexer": "ipython3",
   "version": "3.12.3"
  }
 },
 "nbformat": 4,
 "nbformat_minor": 2
}
