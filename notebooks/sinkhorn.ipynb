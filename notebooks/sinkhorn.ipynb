{
 "cells": [
  {
   "cell_type": "code",
   "execution_count": 1,
   "metadata": {
    "ExecuteTime": {
     "end_time": "2024-01-30T01:51:15.619128Z",
     "start_time": "2024-01-30T01:51:14.416799Z"
    }
   },
   "outputs": [],
   "source": [
    "import pygmtools as pygm\n",
    "import torch\n",
    "import numpy as np\n",
    "\n",
    "pygm.set_backend('pytorch')"
   ]
  },
  {
   "cell_type": "code",
   "execution_count": 5,
   "metadata": {
    "ExecuteTime": {
     "end_time": "2024-01-30T01:56:45.351496Z",
     "start_time": "2024-01-30T01:56:45.348085Z"
    }
   },
   "outputs": [
    {
     "data": {
      "text/plain": "tensor([[1., 1., 2.],\n        [2., 3., 4.],\n        [1., 1., 1.]])"
     },
     "execution_count": 5,
     "metadata": {},
     "output_type": "execute_result"
    }
   ],
   "source": [
    "arr = torch.Tensor(\n",
    "    [[1, 1, 2], [2, 3, 4], [1, 1, 1]]\n",
    ")\n",
    "arr"
   ]
  },
  {
   "cell_type": "code",
   "execution_count": 6,
   "metadata": {
    "ExecuteTime": {
     "end_time": "2024-01-30T01:56:47.624320Z",
     "start_time": "2024-01-30T01:56:47.618670Z"
    }
   },
   "outputs": [
    {
     "data": {
      "text/plain": "tensor([[0.3608, 0.2785, 0.3608],\n        [0.1719, 0.3608, 0.4673],\n        [0.4673, 0.3608, 0.1719]])"
     },
     "execution_count": 6,
     "metadata": {},
     "output_type": "execute_result"
    }
   ],
   "source": [
    "y = pygm.sinkhorn(arr)\n",
    "y"
   ]
  },
  {
   "cell_type": "code",
   "execution_count": 8,
   "metadata": {
    "ExecuteTime": {
     "end_time": "2024-01-30T01:57:30.177602Z",
     "start_time": "2024-01-30T01:57:30.155232Z"
    }
   },
   "outputs": [
    {
     "name": "stdout",
     "output_type": "stream",
     "text": [
      "sum: tensor(3.)\n",
      "row sum tensor([1.0000, 1.0000, 1.0000])\n",
      "col sum tensor([1., 1., 1.])\n"
     ]
    }
   ],
   "source": [
    "print('sum:', y.sum())\n",
    "print('row sum', y.sum(dim=1))\n",
    "print('col sum', y.sum(dim=0))"
   ]
  },
  {
   "cell_type": "code",
   "execution_count": 9,
   "metadata": {
    "ExecuteTime": {
     "end_time": "2024-01-30T01:58:30.098293Z",
     "start_time": "2024-01-30T01:58:30.061708Z"
    }
   },
   "outputs": [
    {
     "data": {
      "text/plain": "tensor(5.6561)"
     },
     "execution_count": 9,
     "metadata": {},
     "output_type": "execute_result"
    }
   ],
   "source": [
    "(y * arr).sum()"
   ]
  }
 ],
 "metadata": {
  "kernelspec": {
   "display_name": "math",
   "language": "python",
   "name": "python3"
  },
  "language_info": {
   "codemirror_mode": {
    "name": "ipython",
    "version": 3
   },
   "file_extension": ".py",
   "mimetype": "text/x-python",
   "name": "python",
   "nbconvert_exporter": "python",
   "pygments_lexer": "ipython3",
   "version": "3.10.11"
  }
 },
 "nbformat": 4,
 "nbformat_minor": 2
}
