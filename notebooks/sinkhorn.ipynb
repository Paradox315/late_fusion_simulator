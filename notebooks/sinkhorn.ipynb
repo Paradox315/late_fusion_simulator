{
 "cells": [
  {
   "cell_type": "code",
   "execution_count": 5,
   "metadata": {
    "ExecuteTime": {
     "end_time": "2024-10-27T12:30:33.273394Z",
     "start_time": "2024-10-27T12:30:32.922183Z"
    }
   },
   "outputs": [],
   "source": [
    "import pygmtools as pygm\n",
    "import torch\n",
    "pygm.set_backend('pytorch')"
   ]
  },
  {
   "cell_type": "code",
   "execution_count": 6,
   "metadata": {
    "ExecuteTime": {
     "end_time": "2024-10-27T12:30:36.716280Z",
     "start_time": "2024-10-27T12:30:36.646500Z"
    }
   },
   "outputs": [
    {
     "data": {
      "text/plain": [
       "tensor([[ 1.3087, -1.7306,  2.2575,  ..., -1.2932, -0.3575, -0.5444],\n",
       "        [-0.6863, -0.9531, -0.0267,  ...,  0.4607,  1.1105, -0.1052],\n",
       "        [ 0.7123,  0.2137, -0.3272,  ...,  0.1451,  0.2820,  0.4747],\n",
       "        ...,\n",
       "        [ 0.9561,  1.3059, -0.4667,  ..., -0.7492,  0.1205,  0.7719],\n",
       "        [-0.1278,  0.9065, -0.1012,  ...,  0.0249,  0.2878, -0.3659],\n",
       "        [ 0.1662,  2.3891,  0.5505,  ..., -0.3514, -1.0603, -0.4309]])"
      ]
     },
     "execution_count": 6,
     "metadata": {},
     "output_type": "execute_result"
    }
   ],
   "source": [
    "arr = torch.randn(2000, 2000)\n",
    "arr"
   ]
  },
  {
   "cell_type": "code",
   "execution_count": 10,
   "metadata": {
    "ExecuteTime": {
     "end_time": "2024-10-27T12:30:54.780328Z",
     "start_time": "2024-10-27T12:30:45.238678Z"
    }
   },
   "outputs": [
    {
     "name": "stdout",
     "output_type": "stream",
     "text": [
      "111 ms ± 2.65 ms per loop (mean ± std. dev. of 7 runs, 10 loops each)\n"
     ]
    }
   ],
   "source": [
    "%timeit y=pygm.hungarian(arr)"
   ]
  },
  {
   "cell_type": "code",
   "execution_count": 9,
   "metadata": {
    "ExecuteTime": {
     "end_time": "2024-10-27T12:30:58.861398Z",
     "start_time": "2024-10-27T12:30:57.039319Z"
    }
   },
   "outputs": [
    {
     "name": "stdout",
     "output_type": "stream",
     "text": [
      "52.7 ms ± 1.62 ms per loop (mean ± std. dev. of 7 runs, 10 loops each)\n"
     ]
    }
   ],
   "source": [
    "%timeit z=pygm.sinkhorn(arr)"
   ]
  },
  {
   "cell_type": "code",
   "execution_count": 12,
   "metadata": {},
   "outputs": [
    {
     "name": "stdout",
     "output_type": "stream",
     "text": [
      "row sum: tensor([1.0000, 1.0000, 1.0000,  ..., 1.0000, 1.0000, 1.0000])\n",
      "col sum: tensor([1.0000, 1.0000, 1.0000,  ..., 1.0000, 1.0000, 1.0000])\n"
     ]
    }
   ],
   "source": [
    "z=pygm.sinkhorn(arr)\n",
    "print(f'row sum: {z.sum(1)}')\n",
    "print(f'col sum: {z.sum(0)}')"
   ]
  },
  {
   "cell_type": "code",
   "execution_count": 17,
   "metadata": {},
   "outputs": [],
   "source": [
    "def sinkhorn(\n",
    "    cost_matrix: torch.Tensor,\n",
    "    num_iterations: int = 20,\n",
    "    temperature: float = 0.1,\n",
    "    eps: float = 1e-8,\n",
    ") -> torch.Tensor:\n",
    "    \"\"\"\n",
    "    实现 Sinkhorn 算法求解最优传输问题\n",
    "\n",
    "    参数:\n",
    "        cost_matrix (torch.Tensor): 形状为 (batch_size, n, m) 的代价矩阵\n",
    "        num_iterations (int): 迭代次数\n",
    "        temperature (float): 温度参数，控制软化程度\n",
    "        eps (float): 数值稳定性的小常数\n",
    "\n",
    "    返回:\n",
    "        torch.Tensor: 形状为 (batch_size, n, m) 的软匹配矩阵\n",
    "    \"\"\"\n",
    "    # 确保输入是3维张量\n",
    "    if cost_matrix.dim() == 2:\n",
    "        cost_matrix = cost_matrix.unsqueeze(0)\n",
    "\n",
    "    batch_size, n, m = cost_matrix.shape\n",
    "\n",
    "    # 初始化 log-空间的矩阵\n",
    "    log_P = -cost_matrix / temperature\n",
    "\n",
    "    # 初始化行和列的 scaling vectors\n",
    "    log_u = torch.zeros(batch_size, n, 1, device=cost_matrix.device)\n",
    "    log_v = torch.zeros(batch_size, 1, m, device=cost_matrix.device)\n",
    "\n",
    "    # Sinkhorn 迭代\n",
    "    for _ in range(num_iterations):\n",
    "        # 更新 u (行归一化)\n",
    "        log_u = -torch.logsumexp(log_P + log_v, dim=2, keepdim=True)\n",
    "\n",
    "        # 更新 v (列归一化)\n",
    "        log_v = -torch.logsumexp(log_P + log_u, dim=1, keepdim=True)\n",
    "\n",
    "    # 计算最终的传输矩阵\n",
    "    P = torch.exp(log_P + log_u + log_v)\n",
    "\n",
    "    # 处理数值不稳定性\n",
    "    P = torch.clamp(P, eps, 1.0)\n",
    "\n",
    "    # 最终的行列归一化\n",
    "    P = P / P.sum(dim=2, keepdim=True)\n",
    "    P = P / P.sum(dim=1, keepdim=True)\n",
    "\n",
    "    return P.squeeze(0) if batch_size == 1 else P\n"
   ]
  },
  {
   "cell_type": "code",
   "execution_count": 68,
   "metadata": {},
   "outputs": [],
   "source": [
    "cost_matrix = torch.randint(0, 10, (5, 5)).float()"
   ]
  },
  {
   "cell_type": "code",
   "execution_count": 92,
   "metadata": {},
   "outputs": [
    {
     "name": "stdout",
     "output_type": "stream",
     "text": [
      "Row sums: tensor([1.0043, 0.9938, 0.9934, 1.0045, 1.0039])\n",
      "Column sums: tensor([1.0000, 1.0000, 1.0000, 1.0000, 1.0000])\n",
      "Result: tensor(4.9784)\n"
     ]
    }
   ],
   "source": [
    "# 应用 Sinkhorn 算法\n",
    "result = sinkhorn(cost_matrix, num_iterations=100, temperature=1e-5)\n",
    "\n",
    "# 验证结果\n",
    "print(\"Row sums:\", result.sum(1))  # 应该接近 1\n",
    "print(\"Column sums:\", result.sum(0))  # 应该接近 1\n",
    "print(\"Result:\", torch.sum(cost_matrix*result))  # 乘以原始代价矩阵，得到最终的传输矩阵"
   ]
  },
  {
   "cell_type": "code",
   "execution_count": 41,
   "metadata": {},
   "outputs": [
    {
     "name": "stdout",
     "output_type": "stream",
     "text": [
      "10.9 µs ± 255 ns per loop (mean ± std. dev. of 7 runs, 100,000 loops each)\n"
     ]
    }
   ],
   "source": [
    "import torch.nn.functional as F\n",
    "a=(torch.arange(1, 901).reshape(30,30)>450).float()\n",
    "# print(a)\n",
    "%timeit F.normalize(a, p=1, dim=1)"
   ]
  },
  {
   "cell_type": "code",
   "execution_count": 42,
   "metadata": {},
   "outputs": [
    {
     "name": "stdout",
     "output_type": "stream",
     "text": [
      "6.19 µs ± 168 ns per loop (mean ± std. dev. of 7 runs, 100,000 loops each)\n"
     ]
    }
   ],
   "source": [
    "%timeit a / (a.sum(dim=1, keepdim=True) + 1e-8)"
   ]
  },
  {
   "cell_type": "code",
   "execution_count": 47,
   "metadata": {},
   "outputs": [
    {
     "data": {
      "text/plain": [
       "tensor(True)"
      ]
     },
     "execution_count": 47,
     "metadata": {},
     "output_type": "execute_result"
    }
   ],
   "source": [
    "torch.isclose(F.normalize(a, p=1, dim=1), a / (a.sum(dim=1, keepdim=True) + 1e-8)).all()"
   ]
  },
  {
   "cell_type": "code",
   "execution_count": 44,
   "metadata": {},
   "outputs": [],
   "source": [
    "def sparse_normalize(binary_matrix: torch.Tensor) -> torch.Tensor:\n",
    "    \"\"\"\n",
    "    使用稀疏矩阵格式进行归一化\n",
    "    \"\"\"\n",
    "    indices = binary_matrix.nonzero().t()\n",
    "    values = binary_matrix[indices[0], indices[1]]\n",
    "    sparse = torch.sparse_coo_tensor(indices, values, binary_matrix.size())\n",
    "    row_sums = torch.sparse.sum(sparse, dim=1).to_dense()\n",
    "    normalized = torch.sparse_coo_tensor(\n",
    "        indices, values / row_sums[indices[0]], binary_matrix.size()\n",
    "    )\n",
    "    return normalized.to_dense()"
   ]
  },
  {
   "cell_type": "code",
   "execution_count": 45,
   "metadata": {},
   "outputs": [
    {
     "name": "stdout",
     "output_type": "stream",
     "text": [
      "94.6 µs ± 8.38 µs per loop (mean ± std. dev. of 7 runs, 10,000 loops each)\n"
     ]
    }
   ],
   "source": [
    "%timeit sparse_normalize(a)"
   ]
  },
  {
   "cell_type": "code",
   "execution_count": null,
   "metadata": {},
   "outputs": [
    {
     "name": "stdout",
     "output_type": "stream",
     "text": [
      "9.26 µs ± 28.7 ns per loop (mean ± std. dev. of 7 runs, 100,000 loops each)\n"
     ]
    }
   ],
   "source": [
    "def fast_normalize(binary_matrix: torch.Tensor, dim: int = 1) -> torch.Tensor:\n",
    "    \"\"\"\n",
    "    使用where快速归一化二值矩阵\n",
    "    \"\"\"\n",
    "    row_sums = binary_matrix.sum(dim=dim, keepdim=True)\n",
    "    return torch.where(\n",
    "        row_sums > 0, binary_matrix / row_sums, torch.zeros_like(binary_matrix)\n",
    "    )\n",
    "%timeit fast_normalize(a)"
   ]
  }
 ],
 "metadata": {
  "kernelspec": {
   "display_name": ".venv",
   "language": "python",
   "name": "python3"
  },
  "language_info": {
   "codemirror_mode": {
    "name": "ipython",
    "version": 3
   },
   "file_extension": ".py",
   "mimetype": "text/x-python",
   "name": "python",
   "nbconvert_exporter": "python",
   "pygments_lexer": "ipython3",
   "version": "3.12.9"
  }
 },
 "nbformat": 4,
 "nbformat_minor": 2
}
