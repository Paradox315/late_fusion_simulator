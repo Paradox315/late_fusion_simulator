{
 "cells": [
  {
   "cell_type": "code",
   "execution_count": 1,
   "metadata": {},
   "outputs": [],
   "source": [
    "import torch\n",
    "import torch.nn.functional as F\n",
    "\n",
    "\n",
    "def specialized_loss(P, X, lambda_row=1.0, lambda_col=1.0):\n",
    "    \"\"\"\n",
    "    专门设计的损失函数\n",
    "    P: 预测的双随机矩阵\n",
    "    X: 真值01矩阵\n",
    "    \"\"\"\n",
    "    batch_size, n, m = P.shape  # 假设P是三维的，第一维是batch\n",
    "\n",
    "    # 1. 基本的匹配损失（例如二元交叉熵）\n",
    "    base_loss = F.binary_cross_entropy(P, X, reduction='mean')\n",
    "\n",
    "    # 2. X行和为0时的惩罚项\n",
    "    X_row_sums = torch.sum(X, dim=2)  # [batch_size, n]\n",
    "    P_row_sums = torch.sum(P, dim=2)  # [batch_size, n]\n",
    "    row_zero_mask = (X_row_sums == 0).float()  # 标识X中行和为0的位置\n",
    "    row_penalty = torch.sum(P_row_sums * row_zero_mask) / (torch.sum(row_zero_mask) + 1e-6)\n",
    "\n",
    "    # 3. X列和为0时的惩罚项\n",
    "    X_col_sums = torch.sum(X, dim=1)  # [batch_size, m]\n",
    "    P_col_sums = torch.sum(P, dim=1)  # [batch_size, m]\n",
    "    col_zero_mask = (X_col_sums == 0).float()  # 标识X中列和为0的位置\n",
    "    col_penalty = torch.sum(P_col_sums * col_zero_mask) / (torch.sum(col_zero_mask) + 1e-6)\n",
    "\n",
    "    # 总损失\n",
    "    total_loss = base_loss + lambda_row * row_penalty + lambda_col * col_penalty\n",
    "\n",
    "    return total_loss\n"
   ]
  },
  {
   "cell_type": "code",
   "execution_count": 7,
   "metadata": {},
   "outputs": [],
   "source": [
    "P = torch.tensor([[[0.1, 0.2, 0.7], [0.3, 0.3, 0.4], [0.8, 0.05, 0.15]]], requires_grad=True).float()\n",
    "X = torch.tensor([[[0, 0, 1], [0, 0, 0], [1, 0, 0]]]).float()\n",
    "loss = specialized_loss(P, X)\n",
    "loss.backward()"
   ]
  }
 ],
 "metadata": {
  "kernelspec": {
   "display_name": ".venv",
   "language": "python",
   "name": "python3"
  },
  "language_info": {
   "codemirror_mode": {
    "name": "ipython",
    "version": 3
   },
   "file_extension": ".py",
   "mimetype": "text/x-python",
   "name": "python",
   "nbconvert_exporter": "python",
   "pygments_lexer": "ipython3",
   "version": "3.12.9"
  }
 },
 "nbformat": 4,
 "nbformat_minor": 2
}
