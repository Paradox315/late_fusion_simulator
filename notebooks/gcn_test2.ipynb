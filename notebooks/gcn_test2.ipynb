{
 "cells": [
  {
   "cell_type": "code",
   "execution_count": 2,
   "metadata": {},
   "outputs": [],
   "source": [
    "import sys\n",
    "\n",
    "sys.path.append(\"..\")\n",
    "import matplotlib.pyplot as plt\n",
    "import pygmtools as pygm\n",
    "import seaborn as sns\n",
    "\n",
    "from src.networks.gcn_net import GCN_Net\n",
    "\n",
    "pygm.set_backend(\"pytorch\")\n",
    "dataset_path = \"../data/match_dataset/\""
   ]
  },
  {
   "cell_type": "code",
   "execution_count": 3,
   "metadata": {},
   "outputs": [
    {
     "name": "stdout",
     "output_type": "stream",
     "text": [
      "Loading dataset...\n",
      "Dataset loaded.\n"
     ]
    }
   ],
   "source": [
    "import torch_geometric.loader as GraphLoader\n",
    "\n",
    "from src.match_dataset import MatchDataset\n",
    "\n",
    "\n",
    "def init():\n",
    "    print(\"Loading dataset...\")\n",
    "    val_dataset = MatchDataset(f\"{dataset_path}/validate_parts.json\", dataset_path)\n",
    "    val_loader = GraphLoader.DataLoader(val_dataset, batch_size=1, shuffle=False)\n",
    "    print(\"Dataset loaded.\")\n",
    "    return val_loader\n",
    "\n",
    "\n",
    "val_loader = init()"
   ]
  },
  {
   "cell_type": "code",
   "execution_count": 4,
   "metadata": {},
   "outputs": [],
   "source": [
    "ego_preds, cav_preds, K, gt = next(iter(val_loader))"
   ]
  },
  {
   "cell_type": "code",
   "execution_count": 5,
   "metadata": {},
   "outputs": [
    {
     "data": {
      "text/plain": [
       "True"
      ]
     },
     "execution_count": 5,
     "metadata": {},
     "output_type": "execute_result"
    }
   ],
   "source": [
    "import torch\n",
    "\n",
    "pygm.set_backend(\"pytorch\")\n",
    "from src.utils.lap import build_affinity_matrix\n",
    "\n",
    "ego_preds = ego_preds.squeeze()\n",
    "cav_preds = cav_preds.squeeze()\n",
    "K = K.squeeze()\n",
    "K1, _, _ = build_affinity_matrix(cav_preds.numpy(), ego_preds.numpy())\n",
    "torch.allclose(K, K1)"
   ]
  },
  {
   "cell_type": "code",
   "execution_count": null,
   "metadata": {},
   "outputs": [],
   "source": [
    "def build_affinity_matrix(\n",
    "    node_aff_mat: torch.Tensor,\n",
    "    edge_aff_mat: torch.Tensor,\n",
    "    graph1_edges: torch.Tensor,\n",
    "    graph2_edges: torch.Tensor,\n",
    ") -> torch.Tensor:\n",
    "    \"\"\"构建二阶亲和矩阵\n",
    "\n",
    "    Args:\n",
    "        node_aff_mat: 节点相似度矩阵，形状 (num_nodes1, num_nodes2)\n",
    "        edge_aff_mat: 边相似度矩阵，形状 (num_edges1, num_edges2)\n",
    "        graph1_edges: 图1的边连接关系，形状 (num_edges1, 2)\n",
    "        graph2_edges: 图2的边连接关系，形状 (num_edges2, 2)\n",
    "    Returns:\n",
    "        affinity_matrix: 二阶亲和矩阵，形状 (num_nodes1*num_nodes2, num_nodes1*num_nodes2)\n",
    "    \"\"\"\n",
    "    device = edge_aff_mat.device if edge_aff_mat is not None else node_aff_mat.device\n",
    "    dtype = edge_aff_mat.dtype if edge_aff_mat is not None else node_aff_mat.dtype\n",
    "    num_nodes1, num_nodes2 = node_aff_mat.shape\n",
    "    num_edges1, num_edges2 = edge_aff_mat.shape\n",
    "\n",
    "    # 初始化二阶亲和矩阵K\n",
    "    affinity_matrix = torch.zeros(\n",
    "        num_nodes2, num_nodes1, num_nodes2, num_nodes1, dtype=dtype, device=device\n",
    "    )\n",
    "\n",
    "    # 处理边的亲和度\n",
    "    if edge_aff_mat is not None:\n",
    "        # 构建边的索引矩阵\n",
    "        edge_indices = _build_edge_indices(\n",
    "            graph1_edges[:num_edges1], graph2_edges[:num_edges2], num_edges1, num_edges2\n",
    "        )\n",
    "        # 填充边的亲和度值\n",
    "        affinity_matrix[edge_indices] = edge_aff_mat[:num_edges1, :num_edges2].reshape(\n",
    "            -1\n",
    "        )\n",
    "\n",
    "    # 重塑为方阵\n",
    "    affinity_matrix = affinity_matrix.reshape(\n",
    "        num_nodes2 * num_nodes1, num_nodes2 * num_nodes1\n",
    "    )\n",
    "\n",
    "    # 处理节点的亲和度\n",
    "    if node_aff_mat is not None:\n",
    "        diagonal = torch.diagonal(affinity_matrix)\n",
    "        diagonal[:] = node_aff_mat.t().reshape(-1)\n",
    "\n",
    "    return affinity_matrix\n",
    "\n",
    "\n",
    "def _build_edge_indices(\n",
    "    edges1: torch.Tensor, edges2: torch.Tensor, num_edges1: int, num_edges2: int\n",
    ") -> tuple[torch.Tensor, ...]:\n",
    "    \"\"\"构建边的索引矩阵\n",
    "\n",
    "    Args:\n",
    "        edges1: 图1的边，形状 (num_edges1, 2)\n",
    "        edges2: 图2的边，形状 (num_edges2, 2)\n",
    "        num_edges1: 图1的边数\n",
    "        num_edges2: 图2的边数\n",
    "\n",
    "    Returns:\n",
    "        edge_indices: 边索引元组 (start_g2, start_g1, end_g2, end_g1)\n",
    "    \"\"\"\n",
    "    combined_edges = torch.cat(\n",
    "        [edges1.repeat_interleave(num_edges2, dim=0), edges2.repeat(num_edges1, 1)],\n",
    "        dim=1,\n",
    "    )\n",
    "\n",
    "    return (\n",
    "        combined_edges[:, 2],  # start_g2\n",
    "        combined_edges[:, 0],  # start_g1\n",
    "        combined_edges[:, 3],  # end_g2\n",
    "        combined_edges[:, 1],  # end_g1\n",
    "    )\n"
   ]
  },
  {
   "cell_type": "code",
   "execution_count": 12,
   "metadata": {},
   "outputs": [],
   "source": [
    "from src.utils.tools import (\n",
    "    build_conn_edge,\n",
    "    build_graph,\n",
    "    edge_affinity_fn,\n",
    "    node_affinity_fn,\n",
    ")\n",
    "\n",
    "ego_graph, cav_graph = build_graph(ego_preds), build_graph(cav_preds)\n",
    "n1, n2 = torch.tensor([ego_graph.shape[0]]), torch.tensor([cav_graph.shape[0]])\n",
    "conn1, edge1 = build_conn_edge(ego_graph)\n",
    "conn2, edge2 = build_conn_edge(cav_graph)\n",
    "node_mat = node_affinity_fn(ego_preds.unsqueeze(0), cav_preds.unsqueeze(0))[0]\n",
    "edge_mat = edge_affinity_fn(edge1.unsqueeze(0), edge2.unsqueeze(0))[0]"
   ]
  },
  {
   "cell_type": "code",
   "execution_count": 17,
   "metadata": {},
   "outputs": [],
   "source": [
    "import torch\n",
    "import torch.nn as nn\n",
    "\n",
    "\n",
    "# PyTorch伪代码示例\n",
    "class NodeMLP(nn.Module):\n",
    "    def __init__(self):\n",
    "        super().__init__()\n",
    "        # 共享权重分支\n",
    "        self.branch = nn.Sequential(\n",
    "            nn.Linear(5, 64),  # 输入(x,y,h,w,\\alpha)\n",
    "            nn.ReLU(),\n",
    "            nn.Linear(64, 32),\n",
    "        )\n",
    "        # 相似度计算\n",
    "        self.distance = nn.CosineSimilarity()\n",
    "\n",
    "    def forward(self, preds1, preds2):\n",
    "        x1, x2 = preds1[:, 1:6], preds2[:, 1:6]\n",
    "        cls1, cls2 = preds1[:, 6], preds2[:, 6]\n",
    "        conf1, conf2 = preds1[:, 7:], preds2[:, 7:]\n",
    "        feat1 = self.branch(x1)\n",
    "        feat2 = self.branch(x2)\n",
    "        # check if the two nodes are of the same class\n",
    "        cls_dist = cls1.view(-1, 1) == cls2.view(1, -1)\n",
    "        # calculate the confidence affinity\n",
    "        conf_dist = torch.sum(\n",
    "            torch.sqrt(conf1.unsqueeze(1) * conf2.unsqueeze(0)), dim=-1\n",
    "        )\n",
    "        return cls_dist * conf_dist * self.distance(feat1, feat2)\n"
   ]
  },
  {
   "cell_type": "code",
   "execution_count": 18,
   "metadata": {},
   "outputs": [],
   "source": [
    "# PyTorch伪代码示例\n",
    "class EdgeMLP(nn.Module):\n",
    "    def __init__(self):\n",
    "        super().__init__()\n",
    "        # 共享权重分支\n",
    "        self.branch = nn.Sequential(\n",
    "            nn.Linear(3, 64),  # 输入(\\Delta dist, \\Delta \\theta, \\Delta \\alpha)\n",
    "            nn.ReLU(),\n",
    "            nn.Linear(64, 32),\n",
    "        )\n",
    "        # 相似度计算\n",
    "        self.distance = nn.CosineSimilarity()\n",
    "\n",
    "    def forward(self, edges1, edges2):\n",
    "        x1, x2 = edges1[:, :3], edges2[:, :3]\n",
    "        feat1 = self.branch(x1)\n",
    "        feat2 = self.branch(x2)\n",
    "        # check if the two nodes are of the same class\n",
    "        cls_edge1, cls_edge2 = edges1[:, 3:].int(), edges2[:, 3:].int()\n",
    "        def compare_tensors(tensor1, tensor2):\n",
    "            tensor1_exp = tensor1.unsqueeze(1).expand(-1, tensor2.size(0), -1)\n",
    "            tensor2_exp = tensor2.unsqueeze(0).expand(tensor1.size(0), -1, -1)\n",
    "            return torch.eq(tensor1_exp, tensor2_exp).all(dim=-1)\n",
    "\n",
    "        cls_aff = compare_tensors(cls_edge1, cls_edge2)\n",
    "        # calculate the confidence affinity\n",
    "\n",
    "        return cls_aff * self.distance(feat1, feat2)\n"
   ]
  },
  {
   "cell_type": "code",
   "execution_count": 20,
   "metadata": {},
   "outputs": [],
   "source": [
    "# PyTorch代码\n",
    "node_mlp=NodeMLP()\n",
    "edge_mlp=EdgeMLP()\n",
    "node_aff_mat = node_mlp(ego_preds, cav_preds)\n",
    "edge_aff_mat = edge_mlp(edge1, edge2)"
   ]
  },
  {
   "cell_type": "code",
   "execution_count": null,
   "metadata": {},
   "outputs": [
    {
     "data": {
      "text/plain": [
       "True"
      ]
     },
     "execution_count": 16,
     "metadata": {},
     "output_type": "execute_result"
    }
   ],
   "source": [
    "K2 = build_affinity_matrix(node_mat, edge_mat, conn1, conn2)\n",
    "torch.allclose(K, K2)"
   ]
  },
  {
   "cell_type": "code",
   "execution_count": 21,
   "metadata": {},
   "outputs": [
    {
     "data": {
      "text/plain": [
       "False"
      ]
     },
     "execution_count": 21,
     "metadata": {},
     "output_type": "execute_result"
    }
   ],
   "source": [
    "K3=build_affinity_matrix(node_aff_mat, edge_aff_mat, conn1, conn2)\n",
    "torch.allclose(K, K3)"
   ]
  }
 ],
 "metadata": {
  "kernelspec": {
   "display_name": ".venv",
   "language": "python",
   "name": "python3"
  },
  "language_info": {
   "codemirror_mode": {
    "name": "ipython",
    "version": 3
   },
   "file_extension": ".py",
   "mimetype": "text/x-python",
   "name": "python",
   "nbconvert_exporter": "python",
   "pygments_lexer": "ipython3",
   "version": "3.12.9"
  }
 },
 "nbformat": 4,
 "nbformat_minor": 2
}
