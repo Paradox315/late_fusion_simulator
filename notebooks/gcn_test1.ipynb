{
 "cells": [
  {
   "cell_type": "code",
   "execution_count": 1,
   "id": "initial_id",
   "metadata": {
    "ExecuteTime": {
     "end_time": "2024-12-17T07:19:22.126865Z",
     "start_time": "2024-12-17T07:19:20.236242Z"
    },
    "collapsed": true
   },
   "outputs": [],
   "source": [
    "import sys\n",
    "\n",
    "sys.path.append(\"..\")\n",
    "from src.networks.gcn_net import GCN_Net\n",
    "import matplotlib.pyplot as plt\n",
    "import pygmtools as pygm\n",
    "import seaborn as sns\n",
    "\n",
    "pygm.set_backend(\"pytorch\")\n",
    "dataset_path = '../data/match_dataset/'"
   ]
  },
  {
   "cell_type": "code",
   "execution_count": 2,
   "id": "3e737abc189652b0",
   "metadata": {
    "ExecuteTime": {
     "end_time": "2024-12-17T07:19:23.110268Z",
     "start_time": "2024-12-17T07:19:23.107967Z"
    }
   },
   "outputs": [],
   "source": [
    "import torch_geometric.loader as GraphLoader\n",
    "from src.match_dataset import MatchDataset\n",
    "\n",
    "\n",
    "def init():\n",
    "    print(\"Loading dataset...\")\n",
    "    val_dataset = MatchDataset(f\"{dataset_path}/validate_parts.json\", dataset_path)\n",
    "    val_loader = GraphLoader.DataLoader(val_dataset, batch_size=1, shuffle=False)\n",
    "    print(\"Dataset loaded.\")\n",
    "    return val_loader"
   ]
  },
  {
   "cell_type": "code",
   "execution_count": 3,
   "id": "33f13e225c7c4b45",
   "metadata": {
    "ExecuteTime": {
     "end_time": "2024-12-17T07:19:24.531953Z",
     "start_time": "2024-12-17T07:19:24.527014Z"
    }
   },
   "outputs": [
    {
     "name": "stdout",
     "output_type": "stream",
     "text": [
      "Loading dataset...\n",
      "Dataset loaded.\n"
     ]
    }
   ],
   "source": [
    "val_loader = init()"
   ]
  },
  {
   "cell_type": "code",
   "execution_count": 17,
   "id": "2672512c94a87e56",
   "metadata": {
    "ExecuteTime": {
     "end_time": "2024-12-17T07:19:30.437677Z",
     "start_time": "2024-12-17T07:19:30.426247Z"
    }
   },
   "outputs": [],
   "source": [
    "ego_preds, cav_preds, K, gt = next(iter(val_loader))"
   ]
  },
  {
   "cell_type": "code",
   "execution_count": 18,
   "id": "dc7111de60c2f541",
   "metadata": {
    "ExecuteTime": {
     "end_time": "2024-12-17T07:19:31.461564Z",
     "start_time": "2024-12-17T07:19:31.227738Z"
    }
   },
   "outputs": [
    {
     "data": {
      "text/plain": [
       "<matplotlib.image.AxesImage at 0x31959d580>"
      ]
     },
     "execution_count": 18,
     "metadata": {},
     "output_type": "execute_result"
    },
    {
     "data": {
      "image/png": "[encoded data removed]",
      "text/plain": [
       "<Figure size 640x480 with 1 Axes>"
      ]
     },
     "metadata": {},
     "output_type": "display_data"
    }
   ],
   "source": [
    "plt.imshow(K[0])"
   ]
  },
  {
   "cell_type": "code",
   "execution_count": 8,
   "id": "a29375bf",
   "metadata": {
    "ExecuteTime": {
     "end_time": "2024-12-17T07:20:37.013859Z",
     "start_time": "2024-12-17T07:20:37.006430Z"
    }
   },
   "outputs": [],
   "source": [
    "from src.networks.gcn_net_new import GCN_Net \n",
    "import torch\n",
    "\n",
    "gcn_model = GCN_Net(\n",
    "    channels=(32, 32, 32),\n",
    "    sk_channels=1,\n",
    ")\n",
    "gcn_model = torch.load(\"../checkpoints/gcn1_model_100.pth\")"
   ]
  },
  {
   "cell_type": "code",
   "execution_count": 19,
   "id": "d03abd40",
   "metadata": {},
   "outputs": [
    {
     "data": {
      "text/plain": [
       "<matplotlib.image.AxesImage at 0x319c46de0>"
      ]
     },
     "execution_count": 19,
     "metadata": {},
     "output_type": "execute_result"
    },
    {
     "data": {
      "image/png": "[encoded data removed]",
      "text/plain": [
       "<Figure size 640x480 with 1 Axes>"
      ]
     },
     "metadata": {},
     "output_type": "display_data"
    }
   ],
   "source": [
    "from src.utils.lap import gcn_match\n",
    "\n",
    "\n",
    "n1 = torch.tensor([ego_preds.shape[1]])\n",
    "n2 = torch.tensor([cav_preds.shape[1]])\n",
    "output = gcn_match(K, n1, n2, gcn_model)\n",
    "plt.imshow(output.detach().numpy()[0])"
   ]
  },
  {
   "cell_type": "code",
   "execution_count": 20,
   "id": "111301a1",
   "metadata": {},
   "outputs": [
    {
     "data": {
      "text/plain": [
       "<matplotlib.image.AxesImage at 0x319c1e180>"
      ]
     },
     "execution_count": 20,
     "metadata": {},
     "output_type": "execute_result"
    },
    {
     "data": {
      "image/png": "[encoded data removed]",
      "text/plain": [
       "<Figure size 640x480 with 1 Axes>"
      ]
     },
     "metadata": {},
     "output_type": "display_data"
    }
   ],
   "source": [
    "plt.imshow(gt[0].numpy())"
   ]
  },
  {
   "cell_type": "code",
   "execution_count": 11,
   "id": "48708651",
   "metadata": {
    "ExecuteTime": {
     "end_time": "2024-12-17T07:20:42.400652Z",
     "start_time": "2024-12-17T07:20:42.398398Z"
    }
   },
   "outputs": [],
   "source": [
    "def print_model(model):\n",
    "    for name, param in model.named_parameters():\n",
    "        if param.requires_grad:\n",
    "            print(f'Name:{name}\\nShape:{param.shape}\\nParams:{param.data}')"
   ]
  },
  {
   "cell_type": "code",
   "execution_count": 12,
   "id": "3c40bc34",
   "metadata": {
    "ExecuteTime": {
     "end_time": "2024-12-17T07:20:43.387247Z",
     "start_time": "2024-12-17T07:20:43.370466Z"
    }
   },
   "outputs": [
    {
     "name": "stdout",
     "output_type": "stream",
     "text": [
      "Name:layers.0.classifier.weight\n",
      "Shape:torch.Size([1, 32])\n",
      "Params:tensor([[-0.0589, -0.0063, -0.0399, -0.0124, -0.0034, -0.0194,  0.0009, -0.0052,\n",
      "         -0.0113,  0.0016, -0.0849, -0.0122,  0.0036, -0.1060, -0.0233,  0.0106,\n",
      "         -0.0041, -0.0018,  0.0303, -0.0012,  0.0024, -0.0053, -0.0044, -0.0033,\n",
      "          0.0005, -0.0195, -0.0163, -0.0189, -0.0313,  0.0002, -0.0080, -0.0123]])\n",
      "Name:layers.0.classifier.bias\n",
      "Shape:torch.Size([1])\n",
      "Params:tensor([-0.4390])\n",
      "Name:layers.0.conv.bias\n",
      "Shape:torch.Size([32])\n",
      "Params:tensor([ 0.2340,  0.4493,  0.7182,  0.2281,  0.2219,  0.1873, -0.0385, -0.0252,\n",
      "         0.3778, -0.2188, -0.5992, -0.2765,  0.6963, -0.4665, -0.3099, -0.2124,\n",
      "         0.0885,  0.1061, -0.3774,  0.3729, -0.3389, -0.0831,  0.0016,  0.6230,\n",
      "         0.5119,  0.6870,  0.2345,  0.2810,  0.6062,  0.2853, -0.7522, -0.2688])\n",
      "Name:layers.0.conv.lin.weight\n",
      "Shape:torch.Size([32, 1])\n",
      "Params:tensor([[-1.1582e-01],\n",
      "        [ 8.0695e-02],\n",
      "        [ 8.1482e-01],\n",
      "        [ 5.4515e-01],\n",
      "        [ 2.2818e-02],\n",
      "        [ 4.8379e-01],\n",
      "        [-2.8130e-01],\n",
      "        [ 1.0949e-01],\n",
      "        [ 5.0615e-01],\n",
      "        [-9.3288e-02],\n",
      "        [-2.3600e-02],\n",
      "        [-4.4570e-01],\n",
      "        [ 6.2798e-01],\n",
      "        [ 1.5374e-01],\n",
      "        [-5.4182e-02],\n",
      "        [-4.1783e-01],\n",
      "        [-8.1128e-02],\n",
      "        [ 6.2056e-02],\n",
      "        [-5.0083e-01],\n",
      "        [ 1.5237e-01],\n",
      "        [ 3.5195e-01],\n",
      "        [ 8.2599e-01],\n",
      "        [-2.6555e-01],\n",
      "        [ 4.3868e-01],\n",
      "        [ 3.5152e-01],\n",
      "        [ 3.3203e-01],\n",
      "        [ 5.3270e-01],\n",
      "        [ 5.8925e-01],\n",
      "        [ 4.7811e-01],\n",
      "        [ 7.0120e-02],\n",
      "        [-2.2255e-01],\n",
      "        [-2.5066e-04]])\n",
      "Name:layers.0.self_loop.weight\n",
      "Shape:torch.Size([32, 1])\n",
      "Params:tensor([[ 0.4255],\n",
      "        [ 0.1195],\n",
      "        [-0.5544],\n",
      "        [-0.3449],\n",
      "        [ 0.2068],\n",
      "        [-0.1562],\n",
      "        [ 0.4711],\n",
      "        [ 0.0959],\n",
      "        [-0.2931],\n",
      "        [ 0.2868],\n",
      "        [ 0.6326],\n",
      "        [ 0.6387],\n",
      "        [-0.5401],\n",
      "        [ 0.7426],\n",
      "        [ 0.3595],\n",
      "        [ 0.5519],\n",
      "        [ 0.2809],\n",
      "        [ 0.0874],\n",
      "        [ 0.6788],\n",
      "        [ 0.0651],\n",
      "        [-0.2292],\n",
      "        [-0.4874],\n",
      "        [ 0.4305],\n",
      "        [-0.1604],\n",
      "        [-0.0962],\n",
      "        [-0.2705],\n",
      "        [-0.2321],\n",
      "        [-0.2878],\n",
      "        [-0.4081],\n",
      "        [ 0.1424],\n",
      "        [ 0.3599],\n",
      "        [ 0.2392]])\n",
      "Name:layers.0.self_loop.bias\n",
      "Shape:torch.Size([32])\n",
      "Params:tensor([ 1.0406, -0.4499,  0.1470, -0.1024, -0.1298,  0.1523,  0.5109, -0.0202,\n",
      "         1.2610,  0.1157, -0.7474, -0.1280,  0.0809, -1.1370,  0.4888, -0.0714,\n",
      "         0.3453,  0.8819, -1.3221, -0.6159,  0.6349,  0.2863, -0.4259, -0.2285,\n",
      "        -0.3395,  0.7559,  0.5926, -0.5527,  0.8817, -0.0681, -0.8204,  0.4113])\n",
      "Name:layers.1.classifier.weight\n",
      "Shape:torch.Size([1, 32])\n",
      "Params:tensor([[-0.0038, -0.0082, -0.0033, -0.0065,  0.0011, -0.0053, -0.0052,  0.0256,\n",
      "         -0.0072, -0.0051, -0.0084, -0.0007, -0.0066, -0.0086, -0.0081, -0.0940,\n",
      "         -0.0108, -0.0038,  0.0011, -0.0070, -0.0097, -0.0072, -0.0089, -0.0027,\n",
      "         -0.0129, -0.0092, -0.0066, -0.0075, -0.0054,  0.0562,  0.0297, -0.0301]])\n",
      "Name:layers.1.classifier.bias\n",
      "Shape:torch.Size([1])\n",
      "Params:tensor([0.9042])\n",
      "Name:layers.1.conv.bias\n",
      "Shape:torch.Size([32])\n",
      "Params:tensor([-0.1842, -0.2334, -0.2480, -0.1184,  0.1867, -0.1912, -0.1144, -0.4518,\n",
      "        -0.4034, -0.0562, -0.3390, -0.3428, -0.2382, -0.3596, -0.3212, -0.3875,\n",
      "        -0.3080, -0.2928, -0.5199,  0.0556, -0.2129, -0.1421, -0.3690, -0.1717,\n",
      "        -0.3123, -0.3362,  0.0409, -0.3400, -0.2264,  0.5435, -0.0700, -0.3916])\n",
      "Name:layers.1.conv.lin.weight\n",
      "Shape:torch.Size([32, 32])\n",
      "Params:tensor([[ 0.0415, -0.2201,  0.0240,  ..., -0.0831, -0.2216, -0.1013],\n",
      "        [ 0.0961,  0.0137,  0.2024,  ...,  0.3387, -0.2420, -0.1793],\n",
      "        [-0.0130, -0.1023,  0.4251,  ...,  0.0614, -0.2281, -0.0894],\n",
      "        ...,\n",
      "        [-0.3052,  0.1019, -0.2406,  ..., -0.0193,  0.4143, -0.2092],\n",
      "        [-0.3871,  0.1519, -0.2910,  ..., -0.1141,  0.8631,  0.2049],\n",
      "        [-0.3433,  0.0068,  0.7635,  ...,  0.2005,  0.0549, -0.0255]])\n",
      "Name:layers.1.self_loop.weight\n",
      "Shape:torch.Size([32, 32])\n",
      "Params:tensor([[-0.1789,  0.0842,  0.0977,  ..., -0.0118, -0.0379,  0.0449],\n",
      "        [ 0.0470,  0.0679, -0.0286,  ...,  0.0092,  0.1081, -0.0686],\n",
      "        [-0.1965,  0.1481, -0.0342,  ...,  0.1087,  0.0658, -0.1174],\n",
      "        ...,\n",
      "        [-0.3535, -0.0107,  0.1765,  ...,  0.0440, -0.3098, -0.1781],\n",
      "        [ 0.0449, -0.1520,  0.1282,  ..., -0.0057, -0.3430, -0.1383],\n",
      "        [-0.3187,  0.1419,  0.0886,  ..., -0.0549,  0.2477, -0.1853]])\n",
      "Name:layers.1.self_loop.bias\n",
      "Shape:torch.Size([32])\n",
      "Params:tensor([-0.0387, -0.3456, -0.2606, -0.0244,  0.0486, -0.2282, -0.1208, -0.4818,\n",
      "        -0.4173, -0.0767, -0.2116, -0.2588, -0.3555, -0.4728, -0.2181, -0.3407,\n",
      "        -0.3767, -0.4142, -0.3661,  0.2269, -0.2992, -0.0831, -0.2481, -0.0069,\n",
      "        -0.3238, -0.4434,  0.0184, -0.2272, -0.3951,  0.6075,  0.1005, -0.3127])\n",
      "Name:layers.2.classifier.weight\n",
      "Shape:torch.Size([1, 32])\n",
      "Params:tensor([[-0.0590, -0.0621, -0.0285, -0.0718,  0.0218, -0.0700, -0.0617, -0.0604,\n",
      "         -0.0514, -0.0014, -0.0447, -0.0749, -0.0227, -0.0503, -0.0480, -0.0615,\n",
      "         -0.0321, -0.0234, -0.0511, -0.0470, -0.0702, -0.0317,  0.0098, -0.0492,\n",
      "         -0.0641, -0.0733, -0.0339,  0.0693, -0.0619,  0.0036, -0.0694, -0.0671]])\n",
      "Name:layers.2.classifier.bias\n",
      "Shape:torch.Size([1])\n",
      "Params:tensor([0.0252])\n",
      "Name:layers.2.conv.bias\n",
      "Shape:torch.Size([32])\n",
      "Params:tensor([-0.0099, -0.1710, -0.1376, -0.0573,  0.0816, -0.0736,  0.0977, -0.2282,\n",
      "         0.0991, -0.0985,  0.0097,  0.0302,  0.0939, -0.1316,  0.1243,  0.0017,\n",
      "        -0.1089, -0.1062, -0.1864, -0.1999, -0.0398, -0.2795,  0.0170, -0.0623,\n",
      "         0.0568, -0.1362, -0.1657, -0.0867, -0.0058,  0.0496,  0.0362,  0.0449])\n",
      "Name:layers.2.conv.lin.weight\n",
      "Shape:torch.Size([32, 32])\n",
      "Params:tensor([[-0.1308, -0.0821, -0.0992,  ...,  0.0063, -0.0753,  0.0733],\n",
      "        [ 0.0405, -0.0860, -0.0700,  ..., -0.1224,  0.0004,  0.1121],\n",
      "        [ 0.2524, -0.0452,  0.2452,  ..., -0.1856, -0.1671, -0.0308],\n",
      "        ...,\n",
      "        [-0.0992,  0.0225, -0.0912,  ...,  0.1095, -0.2968, -0.0151],\n",
      "        [-0.1163, -0.0451,  0.1182,  ...,  0.1414, -0.0499, -0.0370],\n",
      "        [-0.0458,  0.0692, -0.0149,  ...,  0.0664,  0.0287,  0.1403]])\n",
      "Name:layers.2.self_loop.weight\n",
      "Shape:torch.Size([32, 32])\n",
      "Params:tensor([[ 0.1018,  0.0637,  0.0548,  ...,  0.1183, -0.0713, -0.1618],\n",
      "        [-0.0040, -0.0124, -0.0152,  ...,  0.1035, -0.0335, -0.0055],\n",
      "        [-0.0202,  0.1138, -0.1337,  ..., -0.0191,  0.0317, -0.1033],\n",
      "        ...,\n",
      "        [ 0.0090, -0.0393,  0.0498,  ...,  0.0724,  0.1086, -0.0248],\n",
      "        [ 0.0891,  0.1042, -0.0837,  ..., -0.0148,  0.0681,  0.0193],\n",
      "        [-0.0347,  0.0464,  0.0985,  ..., -0.0708,  0.0006,  0.0793]])\n",
      "Name:layers.2.self_loop.bias\n",
      "Shape:torch.Size([32])\n",
      "Params:tensor([-0.1844, -0.0352, -0.2046, -0.1916, -0.0174, -0.1428,  0.1058, -0.3628,\n",
      "        -0.0258,  0.0584,  0.1230,  0.0648,  0.1320, -0.1322,  0.2975, -0.1385,\n",
      "         0.0590, -0.1835, -0.1708, -0.1753,  0.0254, -0.4029,  0.1680, -0.1763,\n",
      "         0.0865, -0.1436, -0.0074, -0.0159, -0.1177, -0.0352,  0.0132, -0.0164])\n",
      "Name:classifier.weight\n",
      "Shape:torch.Size([1, 32])\n",
      "Params:tensor([[ 0.0044, -0.0004, -0.0119, -0.0133,  0.0111, -0.0111, -0.0173, -0.0122,\n",
      "          0.0003, -0.1631,  0.0080, -0.0005,  0.0052, -0.0158, -0.0194,  0.0055,\n",
      "          0.0118, -0.0030,  0.0051, -0.0182, -0.0130,  0.0129,  0.1044, -0.0048,\n",
      "         -0.0141, -0.0061, -0.0105, -0.0058,  0.0017, -0.0114, -0.0054, -0.0126]])\n",
      "Name:classifier.bias\n",
      "Shape:torch.Size([1])\n",
      "Params:tensor([0.5669])\n"
     ]
    }
   ],
   "source": [
    "print_model(gcn_model)"
   ]
  },
  {
   "cell_type": "code",
   "execution_count": 24,
   "id": "6c34c568",
   "metadata": {},
   "outputs": [],
   "source": [
    "def pad_affinity_matrix(K: torch.Tensor, max_size: int) -> torch.Tensor:\n",
    "    \"\"\"\n",
    "    将亲和度矩阵 K 填充到固定大小\n",
    "    \n",
    "    参数:\n",
    "        K: 输入亲和度矩阵，维度为 (n1, n2)\n",
    "        max_size: 目标填充大小\n",
    "        \n",
    "    返回:\n",
    "        padded_K: 填充后的矩阵，维度为 (max_size, max_size)\n",
    "        n1: 原始维度1\n",
    "        n2: 原始维度2\n",
    "    \"\"\"\n",
    "    n1, n2 = K.shape\n",
    "    padded_K = torch.zeros(max_size, max_size, device=K.device)\n",
    "    \n",
    "    # 复制原始数据\n",
    "    padded_K[:n1, :n2] = K\n",
    "    \n",
    "    # 对角线填充1，避免影响 GCN 的消息传递\n",
    "    padded_K[n1:, n2:] = torch.eye(max_size - max(n1, n2), device=K.device)\n",
    "    \n",
    "    return padded_K.unsqueeze(0)\n",
    "\n",
    "def unpad_output(output: torch.Tensor, n1: int, n2: int) -> torch.Tensor:\n",
    "    \"\"\"\n",
    "    从填充后的输出中恢复原始大小的结果\n",
    "    \n",
    "    参数:\n",
    "        output: 模型输出，维度为 (max_size, max_size)\n",
    "        n1: 原始维度1\n",
    "        n2: 原始维度2\n",
    "        \n",
    "    返回:\n",
    "        原始大小的输出矩阵\n",
    "    \"\"\"\n",
    "    return output[:n1, :n2]"
   ]
  },
  {
   "cell_type": "code",
   "execution_count": 25,
   "id": "0ad2cb01",
   "metadata": {},
   "outputs": [
    {
     "ename": "RuntimeError",
     "evalue": "shape '[6, 6]' is invalid for input of size 100",
     "output_type": "error",
     "traceback": [
      "\u001b[0;31m---------------------------------------------------------------------------\u001b[0m",
      "\u001b[0;31mRuntimeError\u001b[0m                              Traceback (most recent call last)",
      "Cell \u001b[0;32mIn[25], line 8\u001b[0m\n\u001b[1;32m      5\u001b[0m padded_K \u001b[38;5;241m=\u001b[39m pad_affinity_matrix(K[\u001b[38;5;241m0\u001b[39m], MAX_SIZE)\n\u001b[1;32m      7\u001b[0m \u001b[38;5;66;03m# 使用模型进行预测\u001b[39;00m\n\u001b[0;32m----> 8\u001b[0m padded_output \u001b[38;5;241m=\u001b[39m \u001b[43mgcn_match\u001b[49m\u001b[43m(\u001b[49m\u001b[43mpadded_K\u001b[49m\u001b[43m,\u001b[49m\u001b[43m \u001b[49m\u001b[43mn1\u001b[49m\u001b[43m,\u001b[49m\u001b[43m \u001b[49m\u001b[43mn2\u001b[49m\u001b[43m,\u001b[49m\u001b[43m \u001b[49m\u001b[43mgcn_model\u001b[49m\u001b[43m)\u001b[49m\n\u001b[1;32m     10\u001b[0m \u001b[38;5;66;03m# 恢复原始维度\u001b[39;00m\n\u001b[1;32m     11\u001b[0m output \u001b[38;5;241m=\u001b[39m unpad_output(padded_output, n1[\u001b[38;5;241m0\u001b[39m], n2[\u001b[38;5;241m0\u001b[39m])\n",
      "File \u001b[0;32m~/Projects/python/late_fusion_simulator/notebooks/../src/utils/lap.py:270\u001b[0m, in \u001b[0;36mgcn_match\u001b[0;34m(K, n1, n2, network)\u001b[0m\n\u001b[1;32m    269\u001b[0m \u001b[38;5;28;01mdef\u001b[39;00m \u001b[38;5;21mgcn_match\u001b[39m(K, n1, n2, network):\n\u001b[0;32m--> 270\u001b[0m     \u001b[38;5;28;01mreturn\u001b[39;00m \u001b[43mnetwork\u001b[49m\u001b[43m(\u001b[49m\u001b[43mK\u001b[49m\u001b[43m[\u001b[49m\u001b[38;5;241;43m0\u001b[39;49m\u001b[43m]\u001b[49m\u001b[43m,\u001b[49m\u001b[43m \u001b[49m\u001b[43mn1\u001b[49m\u001b[43m,\u001b[49m\u001b[43m \u001b[49m\u001b[43mn2\u001b[49m\u001b[43m)\u001b[49m\u001b[38;5;241m.\u001b[39munsqueeze(\u001b[38;5;241m0\u001b[39m)\n",
      "File \u001b[0;32m~/Projects/python/late_fusion_simulator/.venv/lib/python3.12/site-packages/torch/nn/modules/module.py:1511\u001b[0m, in \u001b[0;36mModule._wrapped_call_impl\u001b[0;34m(self, *args, **kwargs)\u001b[0m\n\u001b[1;32m   1509\u001b[0m     \u001b[38;5;28;01mreturn\u001b[39;00m \u001b[38;5;28mself\u001b[39m\u001b[38;5;241m.\u001b[39m_compiled_call_impl(\u001b[38;5;241m*\u001b[39margs, \u001b[38;5;241m*\u001b[39m\u001b[38;5;241m*\u001b[39mkwargs)  \u001b[38;5;66;03m# type: ignore[misc]\u001b[39;00m\n\u001b[1;32m   1510\u001b[0m \u001b[38;5;28;01melse\u001b[39;00m:\n\u001b[0;32m-> 1511\u001b[0m     \u001b[38;5;28;01mreturn\u001b[39;00m \u001b[38;5;28;43mself\u001b[39;49m\u001b[38;5;241;43m.\u001b[39;49m\u001b[43m_call_impl\u001b[49m\u001b[43m(\u001b[49m\u001b[38;5;241;43m*\u001b[39;49m\u001b[43margs\u001b[49m\u001b[43m,\u001b[49m\u001b[43m \u001b[49m\u001b[38;5;241;43m*\u001b[39;49m\u001b[38;5;241;43m*\u001b[39;49m\u001b[43mkwargs\u001b[49m\u001b[43m)\u001b[49m\n",
      "File \u001b[0;32m~/Projects/python/late_fusion_simulator/.venv/lib/python3.12/site-packages/torch/nn/modules/module.py:1520\u001b[0m, in \u001b[0;36mModule._call_impl\u001b[0;34m(self, *args, **kwargs)\u001b[0m\n\u001b[1;32m   1515\u001b[0m \u001b[38;5;66;03m# If we don't have any hooks, we want to skip the rest of the logic in\u001b[39;00m\n\u001b[1;32m   1516\u001b[0m \u001b[38;5;66;03m# this function, and just call forward.\u001b[39;00m\n\u001b[1;32m   1517\u001b[0m \u001b[38;5;28;01mif\u001b[39;00m \u001b[38;5;129;01mnot\u001b[39;00m (\u001b[38;5;28mself\u001b[39m\u001b[38;5;241m.\u001b[39m_backward_hooks \u001b[38;5;129;01mor\u001b[39;00m \u001b[38;5;28mself\u001b[39m\u001b[38;5;241m.\u001b[39m_backward_pre_hooks \u001b[38;5;129;01mor\u001b[39;00m \u001b[38;5;28mself\u001b[39m\u001b[38;5;241m.\u001b[39m_forward_hooks \u001b[38;5;129;01mor\u001b[39;00m \u001b[38;5;28mself\u001b[39m\u001b[38;5;241m.\u001b[39m_forward_pre_hooks\n\u001b[1;32m   1518\u001b[0m         \u001b[38;5;129;01mor\u001b[39;00m _global_backward_pre_hooks \u001b[38;5;129;01mor\u001b[39;00m _global_backward_hooks\n\u001b[1;32m   1519\u001b[0m         \u001b[38;5;129;01mor\u001b[39;00m _global_forward_hooks \u001b[38;5;129;01mor\u001b[39;00m _global_forward_pre_hooks):\n\u001b[0;32m-> 1520\u001b[0m     \u001b[38;5;28;01mreturn\u001b[39;00m \u001b[43mforward_call\u001b[49m\u001b[43m(\u001b[49m\u001b[38;5;241;43m*\u001b[39;49m\u001b[43margs\u001b[49m\u001b[43m,\u001b[49m\u001b[43m \u001b[49m\u001b[38;5;241;43m*\u001b[39;49m\u001b[38;5;241;43m*\u001b[39;49m\u001b[43mkwargs\u001b[49m\u001b[43m)\u001b[49m\n\u001b[1;32m   1522\u001b[0m \u001b[38;5;28;01mtry\u001b[39;00m:\n\u001b[1;32m   1523\u001b[0m     result \u001b[38;5;241m=\u001b[39m \u001b[38;5;28;01mNone\u001b[39;00m\n",
      "File \u001b[0;32m~/Projects/python/late_fusion_simulator/notebooks/../src/networks/gcn_net_new.py:62\u001b[0m, in \u001b[0;36mGCN_Net.forward\u001b[0;34m(self, K, n1, n2)\u001b[0m\n\u001b[1;32m     59\u001b[0m x \u001b[38;5;241m=\u001b[39m torch\u001b[38;5;241m.\u001b[39mdiag(K)\u001b[38;5;241m.\u001b[39mview(\u001b[38;5;241m-\u001b[39m\u001b[38;5;241m1\u001b[39m, \u001b[38;5;241m1\u001b[39m)\n\u001b[1;32m     61\u001b[0m \u001b[38;5;28;01mfor\u001b[39;00m layer \u001b[38;5;129;01min\u001b[39;00m \u001b[38;5;28mself\u001b[39m\u001b[38;5;241m.\u001b[39mlayers:\n\u001b[0;32m---> 62\u001b[0m     x \u001b[38;5;241m=\u001b[39m \u001b[43mlayer\u001b[49m\u001b[43m(\u001b[49m\u001b[43mx\u001b[49m\u001b[43m,\u001b[49m\u001b[43m \u001b[49m\u001b[43medge_index\u001b[49m\u001b[43m,\u001b[49m\u001b[43m \u001b[49m\u001b[43mn1\u001b[49m\u001b[43m,\u001b[49m\u001b[43m \u001b[49m\u001b[43mn2\u001b[49m\u001b[43m,\u001b[49m\u001b[43m \u001b[49m\u001b[43msinkhorn_fn\u001b[49m\u001b[43m)\u001b[49m\n\u001b[1;32m     64\u001b[0m scores \u001b[38;5;241m=\u001b[39m \u001b[38;5;28mself\u001b[39m\u001b[38;5;241m.\u001b[39mclassifier(x)\n\u001b[1;32m     65\u001b[0m s \u001b[38;5;241m=\u001b[39m scores\u001b[38;5;241m.\u001b[39mview(n2, \u001b[38;5;241m-\u001b[39m\u001b[38;5;241m1\u001b[39m)\u001b[38;5;241m.\u001b[39mt()\n",
      "File \u001b[0;32m~/Projects/python/late_fusion_simulator/.venv/lib/python3.12/site-packages/torch/nn/modules/module.py:1511\u001b[0m, in \u001b[0;36mModule._wrapped_call_impl\u001b[0;34m(self, *args, **kwargs)\u001b[0m\n\u001b[1;32m   1509\u001b[0m     \u001b[38;5;28;01mreturn\u001b[39;00m \u001b[38;5;28mself\u001b[39m\u001b[38;5;241m.\u001b[39m_compiled_call_impl(\u001b[38;5;241m*\u001b[39margs, \u001b[38;5;241m*\u001b[39m\u001b[38;5;241m*\u001b[39mkwargs)  \u001b[38;5;66;03m# type: ignore[misc]\u001b[39;00m\n\u001b[1;32m   1510\u001b[0m \u001b[38;5;28;01melse\u001b[39;00m:\n\u001b[0;32m-> 1511\u001b[0m     \u001b[38;5;28;01mreturn\u001b[39;00m \u001b[38;5;28;43mself\u001b[39;49m\u001b[38;5;241;43m.\u001b[39;49m\u001b[43m_call_impl\u001b[49m\u001b[43m(\u001b[49m\u001b[38;5;241;43m*\u001b[39;49m\u001b[43margs\u001b[49m\u001b[43m,\u001b[49m\u001b[43m \u001b[49m\u001b[38;5;241;43m*\u001b[39;49m\u001b[38;5;241;43m*\u001b[39;49m\u001b[43mkwargs\u001b[49m\u001b[43m)\u001b[49m\n",
      "File \u001b[0;32m~/Projects/python/late_fusion_simulator/.venv/lib/python3.12/site-packages/torch/nn/modules/module.py:1520\u001b[0m, in \u001b[0;36mModule._call_impl\u001b[0;34m(self, *args, **kwargs)\u001b[0m\n\u001b[1;32m   1515\u001b[0m \u001b[38;5;66;03m# If we don't have any hooks, we want to skip the rest of the logic in\u001b[39;00m\n\u001b[1;32m   1516\u001b[0m \u001b[38;5;66;03m# this function, and just call forward.\u001b[39;00m\n\u001b[1;32m   1517\u001b[0m \u001b[38;5;28;01mif\u001b[39;00m \u001b[38;5;129;01mnot\u001b[39;00m (\u001b[38;5;28mself\u001b[39m\u001b[38;5;241m.\u001b[39m_backward_hooks \u001b[38;5;129;01mor\u001b[39;00m \u001b[38;5;28mself\u001b[39m\u001b[38;5;241m.\u001b[39m_backward_pre_hooks \u001b[38;5;129;01mor\u001b[39;00m \u001b[38;5;28mself\u001b[39m\u001b[38;5;241m.\u001b[39m_forward_hooks \u001b[38;5;129;01mor\u001b[39;00m \u001b[38;5;28mself\u001b[39m\u001b[38;5;241m.\u001b[39m_forward_pre_hooks\n\u001b[1;32m   1518\u001b[0m         \u001b[38;5;129;01mor\u001b[39;00m _global_backward_pre_hooks \u001b[38;5;129;01mor\u001b[39;00m _global_backward_hooks\n\u001b[1;32m   1519\u001b[0m         \u001b[38;5;129;01mor\u001b[39;00m _global_forward_hooks \u001b[38;5;129;01mor\u001b[39;00m _global_forward_pre_hooks):\n\u001b[0;32m-> 1520\u001b[0m     \u001b[38;5;28;01mreturn\u001b[39;00m \u001b[43mforward_call\u001b[49m\u001b[43m(\u001b[49m\u001b[38;5;241;43m*\u001b[39;49m\u001b[43margs\u001b[49m\u001b[43m,\u001b[49m\u001b[43m \u001b[49m\u001b[38;5;241;43m*\u001b[39;49m\u001b[38;5;241;43m*\u001b[39;49m\u001b[43mkwargs\u001b[49m\u001b[43m)\u001b[49m\n\u001b[1;32m   1522\u001b[0m \u001b[38;5;28;01mtry\u001b[39;00m:\n\u001b[1;32m   1523\u001b[0m     result \u001b[38;5;241m=\u001b[39m \u001b[38;5;28;01mNone\u001b[39;00m\n",
      "File \u001b[0;32m~/Projects/python/late_fusion_simulator/notebooks/../src/networks/gcn_net_new.py:28\u001b[0m, in \u001b[0;36mNGMConvLayer.forward\u001b[0;34m(self, x, edge_index, n1, n2, sk_func)\u001b[0m\n\u001b[1;32m     26\u001b[0m \u001b[38;5;28;01mif\u001b[39;00m \u001b[38;5;28mself\u001b[39m\u001b[38;5;241m.\u001b[39mclassifier \u001b[38;5;129;01mis\u001b[39;00m \u001b[38;5;129;01mnot\u001b[39;00m \u001b[38;5;28;01mNone\u001b[39;00m:\n\u001b[1;32m     27\u001b[0m     sk_features \u001b[38;5;241m=\u001b[39m \u001b[38;5;28mself\u001b[39m\u001b[38;5;241m.\u001b[39mclassifier(x_out)\n\u001b[0;32m---> 28\u001b[0m     sk_matrix \u001b[38;5;241m=\u001b[39m \u001b[43msk_features\u001b[49m\u001b[38;5;241;43m.\u001b[39;49m\u001b[43mview\u001b[49m\u001b[43m(\u001b[49m\u001b[43mn1\u001b[49m\u001b[43m,\u001b[49m\u001b[43m \u001b[49m\u001b[43mn2\u001b[49m\u001b[43m)\u001b[49m\n\u001b[1;32m     29\u001b[0m     sk_output \u001b[38;5;241m=\u001b[39m sk_func(sk_matrix, n1, n2, dummy_row\u001b[38;5;241m=\u001b[39m\u001b[38;5;28;01mTrue\u001b[39;00m)\n\u001b[1;32m     30\u001b[0m     \u001b[38;5;66;03m# x_out = torch.cat([x_out, sk_output.reshape(-1, self.sk_channel)], dim=-1)\u001b[39;00m\n",
      "\u001b[0;31mRuntimeError\u001b[0m: shape '[6, 6]' is invalid for input of size 100"
     ]
    }
   ],
   "source": [
    "# 设置最大维度\n",
    "MAX_SIZE = 100  \n",
    "\n",
    "# 对输入进行padding\n",
    "padded_K = pad_affinity_matrix(K[0], MAX_SIZE)\n",
    "\n",
    "# 使用模型进行预测\n",
    "padded_output = gcn_match(padded_K, n1, n2, gcn_model)\n",
    "\n",
    "# 恢复原始维度\n",
    "output = unpad_output(padded_output, n1[0], n2[0])\n",
    "\n",
    "# 可视化结果\n",
    "plt.imshow(output.detach().numpy())"
   ]
  }
 ],
 "metadata": {
  "kernelspec": {
   "display_name": ".venv",
   "language": "python",
   "name": "python3"
  },
  "language_info": {
   "codemirror_mode": {
    "name": "ipython",
    "version": 3
   },
   "file_extension": ".py",
   "mimetype": "text/x-python",
   "name": "python",
   "nbconvert_exporter": "python",
   "pygments_lexer": "ipython3",
   "version": "3.12.9"
  }
 },
 "nbformat": 4,
 "nbformat_minor": 5
}
